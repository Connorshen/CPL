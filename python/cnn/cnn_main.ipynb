{
 "cells": [
  {
   "cell_type": "code",
   "execution_count": 1,
   "metadata": {},
   "outputs": [
    {
     "name": "stderr",
     "output_type": "stream",
     "text": [
      "Using TensorFlow backend.\n"
     ]
    }
   ],
   "source": [
    "import keras\n",
    "import pandas as pd\n",
    "from keras.layers import Dense, Conv2D, MaxPool2D, Flatten\n",
    "from keras.models import Sequential\n",
    "from keras.optimizers import Adam\n",
    "from keras.utils.np_utils import to_categorical"
   ]
  },
  {
   "cell_type": "code",
   "execution_count": 2,
   "metadata": {},
   "outputs": [],
   "source": [
    "train_data = pd.read_csv(\"../data/train_data.csv\")\n",
    "test_data = pd.read_csv(\"../data/test_data.csv\")\n",
    "train_labels = to_categorical(train_data[\"target\"].values)\n",
    "train_images = train_data.drop(\"target\",axis = 1).values.reshape(-1,28,28,1)/255\n",
    "test_labels = to_categorical(test_data[\"target\"].values)\n",
    "test_images = test_data.drop(\"target\",axis = 1).values.reshape(-1,28,28,1)/255"
   ]
  },
  {
   "cell_type": "code",
   "execution_count": 3,
   "metadata": {},
   "outputs": [],
   "source": [
    "model = Sequential()\n",
    "# Conv layer 1 output shape (32, 28, 28)\n",
    "model.add(Conv2D(\n",
    "    batch_input_shape=(None, 28, 28, 1),\n",
    "    filters=32,\n",
    "    kernel_size=5,\n",
    "    strides=(1,1),\n",
    "    padding=\"same\",\n",
    "    activation=\"relu\"\n",
    "))\n",
    "# Pooling layer 1 (max pooling) output shape (32, 14, 14)\n",
    "model.add(MaxPool2D(\n",
    "    pool_size=(2,2),\n",
    "    padding=\"same\"\n",
    "))\n",
    "# Conv layer 1 output shape (64, 14, 14)\n",
    "model.add(Conv2D(\n",
    "    filters=64,\n",
    "    kernel_size=5,\n",
    "    strides=(1,1),\n",
    "    padding=\"same\",\n",
    "    activation=\"relu\"\n",
    "))\n",
    "# Pooling layer 1 (max pooling) output shape (64, 7, 7)\n",
    "model.add(MaxPool2D(\n",
    "    pool_size=(2,2),\n",
    "    padding=\"same\"\n",
    "))\n",
    "model.add(Flatten())\n",
    "model.add(Dense(1024,activation=\"relu\"))\n",
    "model.add(Dense(10,activation=\"softmax\"))\n",
    "adam = Adam(lr=1e-4)\n",
    "model.compile(optimizer=adam,loss='categorical_crossentropy',metrics=['accuracy'])"
   ]
  },
  {
   "cell_type": "code",
   "execution_count": 4,
   "metadata": {},
   "outputs": [
    {
     "name": "stdout",
     "output_type": "stream",
     "text": [
      "Epoch 1/2\n",
      "60000/60000 [==============================] - 14s 225us/step - loss: 0.2888 - acc: 0.9177\n",
      "Epoch 2/2\n",
      "60000/60000 [==============================] - 13s 208us/step - loss: 0.0762 - acc: 0.9772\n"
     ]
    },
    {
     "data": {
      "text/plain": [
       "<keras.callbacks.History at 0x7f8acee2f5c0>"
      ]
     },
     "execution_count": 4,
     "metadata": {},
     "output_type": "execute_result"
    }
   ],
   "source": [
    "model.fit(train_images, train_labels, epochs=2, batch_size=64)"
   ]
  },
  {
   "cell_type": "code",
   "execution_count": 6,
   "metadata": {},
   "outputs": [
    {
     "name": "stdout",
     "output_type": "stream",
     "text": [
      "10000/10000 [==============================] - 1s 67us/step\n",
      "0.9844\n"
     ]
    }
   ],
   "source": [
    "loss, accuracy = model.evaluate(test_images, test_labels)\n",
    "print(accuracy)"
   ]
  }
 ],
 "metadata": {
  "kernelspec": {
   "display_name": "Python 3",
   "language": "python",
   "name": "python3"
  },
  "language_info": {
   "codemirror_mode": {
    "name": "ipython",
    "version": 3
   },
   "file_extension": ".py",
   "mimetype": "text/x-python",
   "name": "python",
   "nbconvert_exporter": "python",
   "pygments_lexer": "ipython3",
   "version": "3.5.6"
  }
 },
 "nbformat": 4,
 "nbformat_minor": 2
}
